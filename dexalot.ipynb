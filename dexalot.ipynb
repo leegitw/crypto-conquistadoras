{
 "cells": [
  {
   "cell_type": "code",
   "execution_count": 668,
   "metadata": {},
   "outputs": [],
   "source": [
    "teamName = \"TEAM3\"\n",
    "RPC_URL = 'https://node.dexalot-dev.com/ext/bc/C/rpc'\n",
    "\n",
    "# use input prompt to collect metamask wallent address and private key\n",
    "SENDER_ADDRESS = input(\"Enter your metamask(or other wallet) address\")\n",
    "PRIVATE_KEY = input(\"Enter Your metamask(or other wallet) private key\")\n"
   ]
  },
  {
   "cell_type": "code",
   "execution_count": 190,
   "metadata": {},
   "outputs": [],
   "source": [
    "# global imports\n",
    "import requests \n",
    "from decimal import Decimal\n"
   ]
  },
  {
   "cell_type": "code",
   "execution_count": 132,
   "metadata": {},
   "outputs": [
    {
     "name": "stdout",
     "output_type": "stream",
     "text": [
      "ALOT/AVAX -> {'pair': 'ALOT/AVAX', 'base': 'ALOT', 'quote': 'AVAX', 'basedisplaydecimals': 1, 'quotedisplaydecimals': 4, 'baseaddress': '0x264F68550136E7D0056D53385e42b1cD070A4e7c', 'quoteaddress': None, 'mintrade_amnt': '0.300000000000000000', 'maxtrade_amnt': '4000.000000000000000000', 'base_evmdecimals': 18, 'quote_evmdecimals': 18, 'auctionmode': 0, 'auctionendtime': '2022-02-22T04:12:48.606Z', 'status': 'deployed'}\n",
      "ALOT/USDT.e -> {'pair': 'ALOT/USDT.e', 'base': 'ALOT', 'quote': 'USDT.e', 'basedisplaydecimals': 2, 'quotedisplaydecimals': 2, 'baseaddress': '0x264F68550136E7D0056D53385e42b1cD070A4e7c', 'quoteaddress': '0xB18e1D9F8C094e0C489F7E5739289BD86f6e40f9', 'mintrade_amnt': '20.000000000000000000', 'maxtrade_amnt': '300000.000000000000000000', 'base_evmdecimals': 18, 'quote_evmdecimals': 6, 'auctionmode': 0, 'auctionendtime': None, 'status': 'deployed'}\n",
      "AVAX/USDC.e -> {'pair': 'AVAX/USDC.e', 'base': 'AVAX', 'quote': 'USDC.e', 'basedisplaydecimals': 3, 'quotedisplaydecimals': 3, 'baseaddress': None, 'quoteaddress': '0x6A0d574D3Df0274f79ba76c2E9de7Dd67Aeb758B', 'mintrade_amnt': '50.000000000000000000', 'maxtrade_amnt': '100000.000000000000000000', 'base_evmdecimals': 18, 'quote_evmdecimals': 6, 'auctionmode': 0, 'auctionendtime': None, 'status': 'deployed'}\n",
      "AVAX/USDT.e -> {'pair': 'AVAX/USDT.e', 'base': 'AVAX', 'quote': 'USDT.e', 'basedisplaydecimals': 3, 'quotedisplaydecimals': 3, 'baseaddress': None, 'quoteaddress': '0xB18e1D9F8C094e0C489F7E5739289BD86f6e40f9', 'mintrade_amnt': '50.000000000000000000', 'maxtrade_amnt': '100000.000000000000000000', 'base_evmdecimals': 18, 'quote_evmdecimals': 6, 'auctionmode': 0, 'auctionendtime': None, 'status': 'deployed'}\n",
      "LFG/SER -> {'pair': 'LFG/SER', 'base': 'LFG', 'quote': 'SER', 'basedisplaydecimals': 2, 'quotedisplaydecimals': 2, 'baseaddress': '0x6502229Cef7FBa97368D562322AA353269cdF9E5', 'quoteaddress': '0x950289FDbc68f531Ef09A8513442e73D1a173621', 'mintrade_amnt': '10.000000000000000000', 'maxtrade_amnt': '1000000.000000000000000000', 'base_evmdecimals': 18, 'quote_evmdecimals': 18, 'auctionmode': 2, 'auctionendtime': '2022-02-22T04:12:48.606Z', 'status': 'deployed'}\n",
      "TEAM3/AVAX -> {'pair': 'TEAM3/AVAX', 'base': 'TEAM3', 'quote': 'AVAX', 'basedisplaydecimals': 1, 'quotedisplaydecimals': 4, 'baseaddress': '0x6806263bC78cF0eC8387909d27397BBc5BE61FfA', 'quoteaddress': None, 'mintrade_amnt': '0.300000000000000000', 'maxtrade_amnt': '4000.000000000000000000', 'base_evmdecimals': 18, 'quote_evmdecimals': 18, 'auctionmode': 0, 'auctionendtime': None, 'status': 'deployed'}\n"
     ]
    }
   ],
   "source": [
    "# returns the current pairs\n",
    "def tradingPairs():\n",
    "    res = requests.get('https://api.dexalot-dev.com/api/trading/pairs')\n",
    "    \n",
    "    resp = {}\n",
    "    for pair in res.json():\n",
    "        if pair[\"pair\"].startswith(\"TEAM\") and teamName not in pair[\"pair\"] :\n",
    "            continue\n",
    "        resp[pair[\"pair\"]] = pair\n",
    "\n",
    "    return resp\n",
    "\n",
    "pairs = tradingPairs() \n",
    "\n",
    "teamPair = None \n",
    "for pair in pairs :\n",
    "    print(pair, \"->\", pairs[pair])   \n",
    "    if teamName in pair :\n",
    "        teamPair = pair  \n"
   ]
  },
  {
   "cell_type": "code",
   "execution_count": 3,
   "metadata": {},
   "outputs": [
    {
     "ename": "NameError",
     "evalue": "name 'test' is not defined",
     "output_type": "error",
     "traceback": [
      "\u001b[0;31m---------------------------------------------------------------------------\u001b[0m",
      "\u001b[0;31mNameError\u001b[0m                                 Traceback (most recent call last)",
      "\u001b[1;32m/Users/lee/Desktop/projects/crypto-conquistadoras/dexalot.ipynb Cell 3'\u001b[0m in \u001b[0;36m<cell line: 8>\u001b[0;34m()\u001b[0m\n\u001b[1;32m      <a href='vscode-notebook-cell:/Users/lee/Desktop/projects/crypto-conquistadoras/dexalot.ipynb#ch0000004?line=1'>2</a>\u001b[0m     res \u001b[39m=\u001b[39m requests\u001b[39m.\u001b[39mget(\u001b[39m'\u001b[39m\u001b[39mhttps://api.dexalot-dev.com/api/trading/openorders/params?traderaddress=\u001b[39m\u001b[39m%s\u001b[39;00m\u001b[39m&pair=\u001b[39m\u001b[39m%s\u001b[39;00m\u001b[39m'\u001b[39m \u001b[39m%\u001b[39m (tradeAddress, pair))\n\u001b[1;32m      <a href='vscode-notebook-cell:/Users/lee/Desktop/projects/crypto-conquistadoras/dexalot.ipynb#ch0000004?line=2'>3</a>\u001b[0m     \u001b[39mprint\u001b[39m(res\u001b[39m.\u001b[39mjson())\n\u001b[0;32m----> <a href='vscode-notebook-cell:/Users/lee/Desktop/projects/crypto-conquistadoras/dexalot.ipynb#ch0000004?line=7'>8</a>\u001b[0m res \u001b[39m=\u001b[39m openOrders(test, teamPair)\n\u001b[1;32m      <a href='vscode-notebook-cell:/Users/lee/Desktop/projects/crypto-conquistadoras/dexalot.ipynb#ch0000004?line=8'>9</a>\u001b[0m \u001b[39mprint\u001b[39m(res)\n",
      "\u001b[0;31mNameError\u001b[0m: name 'test' is not defined"
     ]
    }
   ],
   "source": [
    "# FIXME: this is not complete yet\n",
    "def openOrders(tradeAddress, pair) :\n",
    "    res = requests.get('https://api.dexalot-dev.com/api/trading/openorders/params?traderaddress=%s&pair=%s' % (tradeAddress, pair))\n",
    "    print(res.json())\n",
    "\n",
    "res = openOrders(test, teamPair)\n",
    "print(res)\n",
    "\n",
    "\n"
   ]
  },
  {
   "cell_type": "code",
   "execution_count": 287,
   "metadata": {},
   "outputs": [],
   "source": [
    "from web3 import HTTPProvider, Web3\n",
    "from web3.middleware import geth_poa_middleware\n",
    "from eth_account import Account\n",
    "from web3.middleware import construct_sign_and_send_raw_middleware\n",
    "\n",
    "_registered_accounts = {}\n",
    "def register_private_key(web3: Web3, private_key):\n",
    "    assert (isinstance(web3, Web3))\n",
    "    account = Account.privateKeyToAccount(private_key)\n",
    "\n",
    "    _registered_accounts[(web3, account.address)] = account\n",
    "    web3.middleware_onion.add(construct_sign_and_send_raw_middleware(account))\n",
    "    web3.eth.default_account = account.address\n",
    "\n",
    "web3 = Web3(HTTPProvider(RPC_URL))\n",
    "web3.middleware_onion.inject(geth_poa_middleware, layer=0)\n",
    "\n",
    "register_private_key(web3, PRIVATE_KEY)\n",
    "\n"
   ]
  },
  {
   "cell_type": "code",
   "execution_count": 288,
   "metadata": {},
   "outputs": [
    {
     "name": "stdout",
     "output_type": "stream",
     "text": [
      "Account Balance 498.929885325\n"
     ]
    }
   ],
   "source": [
    " # get AVAX balance for current account wallent\n",
    "def getBalance(): \n",
    "    return web3.fromWei(web3.eth.get_balance(SENDER_ADDRESS), 'ether')\n",
    "    \n",
    "print(\"Account Balance\", getBalance())"
   ]
  },
  {
   "cell_type": "code",
   "execution_count": 289,
   "metadata": {},
   "outputs": [],
   "source": [
    "deployments = {}\n",
    "def get_deployment(deployType) :\n",
    "    if deployType not in deployments.keys() :\n",
    "        deployments[deployType] = requests.get(\"https://api.dexalot-dev.com/api/trading/deploymentabi/%s\" % deployType).json()\n",
    "    return deployments[deployType]\n",
    "\n",
    "def get_deployment_exchange() :\n",
    "    return get_deployment(\"Exchange\")\n",
    "\n",
    "def get_deployment_portfolio() :\n",
    "    return get_deployment(\"Portfolio\")\n",
    "\n",
    "def get_deployment_trade_pairs() :\n",
    "    return get_deployment(\"TradePairs\")\n",
    "\n",
    "def get_deployment_order_books() :\n",
    "    return get_deployment(\"Orderbooks\")\n"
   ]
  },
  {
   "cell_type": "code",
   "execution_count": 290,
   "metadata": {},
   "outputs": [],
   "source": [
    "\n",
    "def get_contract_exchange() :\n",
    "    deploy = get_deployment_exchange()\n",
    "    return web3.eth.contract(address=deploy[\"address\"], abi=deploy[\"abi\"][\"abi\"])\n",
    "\n",
    "def get_contract_portfolio() :\n",
    "    deploy = get_deployment_portfolio()\n",
    "    return web3.eth.contract(address=deploy[\"address\"], abi=deploy[\"abi\"][\"abi\"])\n",
    "\n",
    "def get_contract_order_books() :\n",
    "    deploy = get_deployment_order_books()\n",
    "    return web3.eth.contract(address=deploy[\"address\"], abi=deploy[\"abi\"][\"abi\"])\n",
    "\n",
    "def get_contract_trade_pairs() :\n",
    "    deploy = get_deployment_trade_pairs()\n",
    "    return web3.eth.contract(address=deploy[\"address\"], abi=deploy[\"abi\"][\"abi\"])\n"
   ]
  },
  {
   "cell_type": "code",
   "execution_count": 669,
   "metadata": {},
   "outputs": [],
   "source": [
    "from eth_utils.currency import to_wei, MIN_WEI, MAX_WEI\n",
    "from eth_utils.types import is_string, is_integer\n",
    "import decimal\n",
    "\n",
    "# takes a number and converts it to any other ether unit.\n",
    "def to_wei(value, unit_number, percision) :\n",
    "    value = float(value)\n",
    "    value = ('%%.%df' % (percision-1)) % value\n",
    "\n",
    "    if is_integer(value) or is_string(value):\n",
    "        d_value = decimal.Decimal(value=value)\n",
    "    elif isinstance(value, float):\n",
    "        d_value = decimal.Decimal(value=str(value))\n",
    "    elif isinstance(value, decimal.Decimal):\n",
    "        d_value = value\n",
    "    else:\n",
    "        raise TypeError(\"Unsupported type.  Must be one of integer, float, or string\")\n",
    "\n",
    "    s_number = str(unit_number)\n",
    " \n",
    "    unit_str = \"1\"\n",
    "    while len(unit_str) <= unit_number :\n",
    "        unit_str = unit_str + \"0\"\n",
    "    unit_value = decimal.Decimal(unit_str)\n",
    "    if d_value == decimal.Decimal(0):\n",
    "        return int(0)\n",
    "\n",
    "    if d_value < 1 and \".\" in s_number:\n",
    "        multiplier = len(s_number) - s_number.index(\".\") - 1\n",
    "        d_value = decimal.Decimal(value=value) * 10 ** multiplier\n",
    "        unit_value /= 10 ** multiplier\n",
    "\n",
    "    result_value = decimal.Decimal(value=d_value) * unit_value\n",
    "\n",
    "    if result_value <  MIN_WEI or result_value > MAX_WEI:\n",
    "        raise ValueError(\"Resulting wei value must be between 1 and 2**256 - 1\")\n",
    "\n",
    "    return int(round(result_value))\n",
    "\n",
    "# takes a number of a unit and converts it to float.\n",
    "def from_wei(value, unit_number, percision) :\n",
    "    if value == 0:\n",
    "        return 0\n",
    "\n",
    "    if value < MIN_WEI or value > MAX_WEI:\n",
    "        raise ValueError(\"value must be between 1 and 2**256 - 1\")\n",
    "\n",
    "    unit_str = \"1\"\n",
    "    while len(unit_str) <= unit_number :\n",
    "        unit_str = unit_str + \"0\"\n",
    "    unit_value = decimal.Decimal(unit_str)\n",
    "\n",
    "    d_value = decimal.Decimal(value=value)\n",
    "    result_value = d_value / unit_value\n",
    "\n",
    "    # TODO: return decimal.Decimal instead\n",
    "    return float(result_value)\n",
    "\n",
    "def format_decimal_quote(value) :\n",
    "   return to_wei(value, pairs[teamPair][\"quote_evmdecimals\"], pairs[teamPair][\"quotedisplaydecimals\"])\n",
    "\n",
    "def format_decimal_base(value) :\n",
    "   return to_wei(value, pairs[teamPair][\"base_evmdecimals\"], pairs[teamPair][\"basedisplaydecimals\"])\n",
    "\n",
    "#human = 1.90\n",
    "#expected = 1900000000000000000\n",
    "#res = format_decimal_quote(human)\n",
    "#if res == expected :\n",
    "#    print(\"YES\", res)\n",
    "#else :\n",
    "#    print(\"NO,\", \"want\", expected, \"got\", res)    \n",
    "\n",
    "def parse_decimal_quote(value) :\n",
    "    return from_wei(value, pairs[teamPair][\"quote_evmdecimals\"], pairs[teamPair][\"quotedisplaydecimals\"])\n",
    "\n",
    "def parse_decimal_base(value) :\n",
    "    return from_wei(value, pairs[teamPair][\"base_evmdecimals\"], pairs[teamPair][\"basedisplaydecimals\"])\n"
   ]
  },
  {
   "cell_type": "code",
   "execution_count": 418,
   "metadata": {},
   "outputs": [
    {
     "name": "stdout",
     "output_type": "stream",
     "text": [
      "AVAX -> b'AVAX\\x00\\x00\\x00\\x00\\x00\\x00\\x00\\x00\\x00\\x00\\x00\\x00\\x00\\x00\\x00\\x00\\x00\\x00\\x00\\x00\\x00\\x00\\x00\\x00\\x00\\x00\\x00\\x00'\n",
      "TEAM3 -> b'TEAM3\\x00\\x00\\x00\\x00\\x00\\x00\\x00\\x00\\x00\\x00\\x00\\x00\\x00\\x00\\x00\\x00\\x00\\x00\\x00\\x00\\x00\\x00\\x00\\x00\\x00\\x00\\x00'\n"
     ]
    }
   ],
   "source": [
    "\n",
    "def get_symbol(tradePairId, isBase):\n",
    "    contract = get_contract_exchange()\n",
    "    return contract.functions.getSymbol(web3.toBytes(text=tradePairId), isBase).call()\n",
    "\n",
    "teamSymbolName = teamPair.split(\"/\")[0]\n",
    "nativeSymbolName = teamPair.split(\"/\")[1]\n",
    "\n",
    "nativeSymbol = get_symbol(teamPair, False)\n",
    "print(nativeSymbolName, \"->\", nativeSymbol)\n",
    "\n",
    "teamSymbol = get_symbol(teamPair, True)\n",
    "print(teamSymbolName, \"->\", teamSymbol)\n"
   ]
  },
  {
   "cell_type": "code",
   "execution_count": 686,
   "metadata": {},
   "outputs": [],
   "source": [
    "# deposit tokens from wallent into portfolio \n",
    "def deposit_token(fromAddress, symbol, quantity):\n",
    "    portfolio = get_contract_portfolio()\n",
    "\n",
    "    fromAddress = Web3.toChecksumAddress(fromAddress)\n",
    "\n",
    "    quantity = format_decimal_base(quantity)\n",
    "   \n",
    "    #tx = portfolio.functions.depositToken(fromAddress, symbol, quantity).transact()\n",
    "    #print(tx)\n",
    "\n",
    "    txn = portfolio.functions.depositToken(fromAddress, symbol, quantity)\n",
    "    built_transaction = {\n",
    "        \"nonce\": web3.eth.get_transaction_count(web3.eth.default_account),\n",
    "        'gas': 200000,\n",
    "        'gasPrice': web3.toWei('100', 'gwei'),\n",
    "        #'gas': web3.eth.generate_gas_price(txn),\n",
    "        #'gasPrice': web3.eth.estimate_gas(txn),\n",
    "    }\n",
    "    txn = txn.buildTransaction(built_transaction)\n",
    "    signed_txn = web3.eth.account.sign_transaction(txn, private_key=PRIVATE_KEY)\n",
    "    tx_token = web3.eth.send_raw_transaction(signed_txn.rawTransaction)\n",
    "    print(tx_token)\n",
    "\n",
    "    return tx_token\n"
   ]
  },
  {
   "cell_type": "code",
   "execution_count": 687,
   "metadata": {},
   "outputs": [
    {
     "name": "stdout",
     "output_type": "stream",
     "text": [
      "b'=\\x8b\\x82\\xb3+-\\xda\\xd3xa\\xb7J\\xf2\\xadf1^\\x88\\xf6.\\x17\\xacA\\xad\\xf4\\x11\\x81\\x8eW\\x83L\\xd0'\n"
     ]
    },
    {
     "data": {
      "text/plain": [
       "HexBytes('0x3d8b82b32b2ddad37861b74af2ad66315e88f62e17ac41adf411818e57834cd0')"
      ]
     },
     "execution_count": 687,
     "metadata": {},
     "output_type": "execute_result"
    }
   ],
   "source": [
    "# Deposit some AVAX to issue buy orders.\n",
    "# FIXME: this does not work yet\n",
    "deposit_token(SENDER_ADDRESS, nativeSymbol, 1)"
   ]
  },
  {
   "cell_type": "code",
   "execution_count": 298,
   "metadata": {},
   "outputs": [
    {
     "name": "stdout",
     "output_type": "stream",
     "text": [
      "fromAddress >> 0xe01292155F805E828b2804b556Dca1a79ead7Cb2\n",
      "symbol >> b'TEAM3\\x00\\x00\\x00\\x00\\x00\\x00\\x00\\x00\\x00\\x00\\x00\\x00\\x00\\x00\\x00\\x00\\x00\\x00\\x00\\x00\\x00\\x00\\x00\\x00\\x00\\x00\\x00'\n",
      "quantity >> 1000000000000000000\n",
      "b'\\xa92\\xd8N\\xfa\\xc8-K\\xf7\\x10\\xdf\\t9\\xad\\x88\\xe3$*s\\xbfiSj\\x94\\xd4\\xa5\\x92^\\xcc\\xb3UG'\n"
     ]
    },
    {
     "data": {
      "text/plain": [
       "HexBytes('0xa932d84efac82d4bf710df0939ad88e3242a73bf69536a94d4a5925eccb35547')"
      ]
     },
     "execution_count": 298,
     "metadata": {},
     "output_type": "execute_result"
    }
   ],
   "source": [
    "# Deposit some TEAM3 to issue sell orders.\n",
    "deposit_token(SENDER_ADDRESS, teamSymbol, 1)"
   ]
  },
  {
   "cell_type": "code",
   "execution_count": 420,
   "metadata": {},
   "outputs": [],
   "source": [
    "ORDER_BOOK_DEPTH_TOP_OF_BOOK = 1\n",
    "ORDER_BOOK_DEPTH_BEST_PRICE = 2\n",
    "\n",
    "last_buy_order_id = \"\" \n",
    "last_sell_order_id = \"\" \n",
    "\n",
    "# get the buy order book from the block chain\n",
    "def getOrderBookBuy(trade_pair_id, req_depth) :\n",
    "    global last_buy_order_id\n",
    "    contract = get_contract_trade_pairs() \n",
    "\n",
    "    res = contract.functions.getNBuyBook(web3.toBytes(text=trade_pair_id), req_depth, 0, 0, last_buy_order_id).call()\n",
    "\n",
    "    orders = [] \n",
    "\n",
    "    cur_price = res[2]\n",
    "    last_buy_order_id = res[3]\n",
    "\n",
    "    if len(res[0]) > 0 :\n",
    "        for f in res[0] :\n",
    "            if f != 0 :\n",
    "                orders.append(f)\n",
    "\n",
    "    if len(res[1]) > 0 :\n",
    "        for f in res[1] :\n",
    "            if f != 0 :\n",
    "                orders.append(f)\n",
    "    \n",
    "\n",
    "    return orders, cur_price\n",
    "\n",
    "# get the sell order book from the block chain\n",
    "def getOrderBookSell(trade_pair_id, req_depth) :\n",
    "    global last_sell_order_id\n",
    "\n",
    "    contract = get_contract_trade_pairs() \n",
    "\n",
    "    res = contract.functions.getNSellBook(web3.toBytes(text=trade_pair_id), req_depth, 0, 0, last_sell_order_id).call()\n",
    "\n",
    "    orders = [] \n",
    "\n",
    "    cur_price = res[2]\n",
    "    last_sell_order_id = res[3]\n",
    "\n",
    "    if len(res[0]) > 0 :\n",
    "        for f in res[0] :\n",
    "            if f != 0 :\n",
    "                orders.append(f)\n",
    "\n",
    "    if len(res[1]) > 0 :\n",
    "        for f in res[1] :\n",
    "            if f != 0 :\n",
    "                orders.append(f)\n",
    "    \n",
    "\n",
    "    return orders, cur_price\n"
   ]
  },
  {
   "cell_type": "code",
   "execution_count": 728,
   "metadata": {},
   "outputs": [],
   "source": [
    "\n",
    "ORDER_SIDE_BUY = 0 \n",
    "ORDER_SIDE_SELL = 2\n",
    "\n",
    "ORDER_TYPE_MARKET = 0\n",
    "ORDER_TYPE_LIMIT = 1\n",
    "\n",
    "# add a new order to the order book for a trade pair\n",
    "def add_order(trade_pair_id, price, quantity, order_side, order_type):\n",
    "    contract = get_contract_trade_pairs()\n",
    "\n",
    "    price = format_decimal_quote(price)\n",
    "    quantity = format_decimal_base(quantity)\n",
    "\n",
    "    built_transaction = {\n",
    "        \"nonce\": web3.eth.get_transaction_count(web3.eth.default_account),\n",
    "        \"gas\": 200000,\n",
    "        \"gasPrice\": web3.toWei('100', 'gwei'),\n",
    "    }\n",
    "\n",
    "    txn = contract.functions.addOrder(web3.toBytes(text=trade_pair_id), price, quantity, order_side, order_type).buildTransaction(built_transaction)\n",
    "    signed_txn = web3.eth.account.sign_transaction(txn, private_key=PRIVATE_KEY)\n",
    "    tx_token = web3.eth.send_raw_transaction(signed_txn.rawTransaction)\n",
    "    \n",
    "    print(tx_token)\n",
    "\n",
    "    print(web3.eth.getTransactionReceipt(tx_token).logs)\n",
    "\n",
    "    \n",
    "\n",
    "    return tx_token\n",
    "\n",
    "\n"
   ]
  },
  {
   "cell_type": "code",
   "execution_count": 665,
   "metadata": {},
   "outputs": [],
   "source": [
    "# import pandas library\n",
    "import pandas as pd\n",
    "import math \n",
    " \n",
    "order_book_df = None \n",
    "\n",
    "# log order meta to a panda dataframe for runtime stats\n",
    "def log_order_book(mid_price, spread_amount) :\n",
    "    global order_book_df\n",
    "    row = {'mid_price': mid_price, 'spread_amount': spread_amount}\n",
    "\n",
    "    if order_book_df is None :\n",
    "        # create the pandas DataFrame\n",
    "        order_book_df = pd.DataFrame([], columns = row.keys())\n",
    "\n",
    "    row_df = pd.DataFrame([row])\n",
    "    order_book_df = pd.concat([order_book_df, row_df], ignore_index=False)\n",
    "    return order_book_df\n",
    "\n",
    "# compute the average mid price for the last N periods\n",
    "def avg_mid_price(window=5) :\n",
    "    avg = order_book_df['mid_price'].rolling(window).mean().tail(1).values[0]\n",
    "  \n",
    "    if math.isnan(avg) :\n",
    "        avg = 0 \n",
    "\n",
    "    return float(avg)    \n",
    "\n",
    "# compute the average spread amounts for the last N periods\n",
    "def avg_spread_amount(window=5) :\n",
    "    avg = order_book_df['spread_amount'].rolling(window).mean().tail(1).values[0]\n",
    "    \n",
    "    if math.isnan(avg) :\n",
    "        avg = 0 \n",
    "\n",
    "    return float(avg)\n"
   ]
  },
  {
   "cell_type": "code",
   "execution_count": 696,
   "metadata": {},
   "outputs": [
    {
     "name": "stdout",
     "output_type": "stream",
     "text": [
      "bid_price 1.892 bid_price_raw 1892000000000000000\n",
      "ask_price 0 ask_price_raw 0\n",
      "0   NaN\n",
      "0   NaN\n",
      "0   NaN\n",
      "Name: mid_price, dtype: float64\n",
      "avg_price 0.00\n",
      "base_price 1.89\n",
      "avg_spread 0.00\n",
      "min_spread_amount 0.10\n",
      "max_spread_amount 0.11\n",
      "target_spread_amount 0.10\n",
      "mintrade_amnt 0.30\n",
      "maxtrade_amnt 4000.00\n"
     ]
    }
   ],
   "source": [
    "import random \n",
    "\n",
    "# the default price used if not orders avialable to determine price\n",
    "INITIAL_PRICE = 2.0\n",
    "\n",
    "DEFAULT_QUANTITY = 1\n",
    "\n",
    "# bid is the maximum price that a buyer is willing to pay\n",
    "_, bid_price_raw = getOrderBookBuy(teamPair, ORDER_BOOK_DEPTH_TOP_OF_BOOK)\n",
    "bid_price = parse_decimal_quote(bid_price_raw)\n",
    "\n",
    "print(\"bid_price\", bid_price, \"bid_price_raw\", bid_price_raw)\n",
    "\n",
    "# ask is the minimum price that a seller is willing to accept \n",
    "_, ask_price_raw = getOrderBookSell(teamPair, ORDER_BOOK_DEPTH_TOP_OF_BOOK)\n",
    "ask_price = parse_decimal_quote(ask_price_raw)\n",
    "\n",
    "print(\"ask_price\", ask_price, \"ask_price_raw\", ask_price_raw)\n",
    "\n",
    "\n",
    "mid_price = None \n",
    "spread_amount = 0 \n",
    "if bid_price > 0 and ask_price > 0 :\n",
    "    mid_price = (bid_price + ask_price) / 2\n",
    "    spread_amount = ask_price - bid_price\n",
    "elif bid_price > 0 :\n",
    "    mid_price = bid_price\n",
    "elif ask_price > 0 :\n",
    "    mid_price = ask_price    \n",
    "else :\n",
    "    mid_price = INITIAL_PRICE\n",
    "\n",
    "log_order_book(mid_price, spread_amount)\n",
    "\n",
    "avg_price = avg_mid_price()\n",
    "avg_spread = avg_spread_amount()\n",
    "\n",
    "base_price = avg_price\n",
    "if base_price == 0 :\n",
    "    base_price = mid_price\n",
    "\n",
    "# TODO: this should be set to the gas amount \n",
    "min_spread_amount = 0.1\n",
    "\n",
    "if avg_spread > 0 :\n",
    "    max_spread_amount = min_spread_amount + (avg_spread / 2)\n",
    "else :\n",
    "    max_spread_amount = min_spread_amount + 0.01\n",
    "\n",
    "target_spread_amount = random.uniform(min_spread_amount, max_spread_amount)\n",
    "\n",
    "print(\"avg_price %.2f\" % (avg_price))\n",
    "print(\"base_price %.2f\" % (base_price))\n",
    "print(\"avg_spread %.2f\" % (avg_spread))\n",
    "print(\"min_spread_amount %.2f\" % (min_spread_amount))\n",
    "print(\"max_spread_amount %.2f\" % (max_spread_amount))\n",
    "print(\"target_spread_amount %.2f\" % (target_spread_amount))\n",
    "\n",
    "mintrade_amnt = float(pairs[teamPair]['mintrade_amnt'])\n",
    "maxtrade_amnt = float(pairs[teamPair]['maxtrade_amnt'])\n",
    "print(\"mintrade_amnt %.2f\" % (mintrade_amnt))\n",
    "print(\"maxtrade_amnt %.2f\" % (maxtrade_amnt))\n",
    "\n",
    "\n"
   ]
  },
  {
   "cell_type": "code",
   "execution_count": 656,
   "metadata": {},
   "outputs": [
    {
     "name": "stdout",
     "output_type": "stream",
     "text": [
      "val1 1.892\n",
      "val2 1.892\n",
      "unit_value 1000000000000000000 unit_str 1000000000000000000\n",
      "unit_value 1000000000000000000\n",
      "resultVal2 1892000000000000000.000\n",
      "resultVal3 1892000000000000000.000\n",
      "buy_price 1.89 19.00\n",
      "buy_amount 1.892083017436054 buy_quantity 1\n",
      "mintrade_amnt 0.3 orig 0.300000000000000000\n",
      "val1 1.892\n",
      "val2 1.892\n",
      "unit_value 1000000000000000000 unit_str 1000000000000000000\n",
      "unit_value 1000000000000000000\n",
      "resultVal2 1892000000000000000.000\n",
      "resultVal3 1892000000000000000.000\n",
      "val1 1\n",
      "val2 1\n",
      "unit_value 1000000000000000000 unit_str 1000000000000000000\n",
      "unit_value 1000000000000000000\n",
      "resultVal2 1000000000000000000\n",
      "resultVal3 1000000000000000000\n",
      "price >> 1892000000000000000\n",
      "quantity >> 1000000000000000000\n",
      "b'\\\\]\\x85\\xb4\\xbb\\xbb\\xb5iHu\\xea\\x15t~~\\\\\\xe0\\xfb\\xe0\\xde\\x1a:Y\\t\\xac\\x7f\\x92K3mB\\x98'\n",
      "b'\\\\]\\x85\\xb4\\xbb\\xbb\\xb5iHu\\xea\\x15t~~\\\\\\xe0\\xfb\\xe0\\xde\\x1a:Y\\t\\xac\\x7f\\x92K3mB\\x98'\n"
     ]
    }
   ],
   "source": [
    "buy_price = base_price - target_spread_amount\n",
    "buy_quantity = DEFAULT_QUANTITY\n",
    "print(\"buy_price %.2f %.2f\" % (buy_price, parse_decimal_quote(format_decimal_quote(buy_price))))\n",
    "\n",
    "buy_amount = buy_price * buy_quantity\n",
    "\n",
    "print(\"buy_amount\", buy_amount, \"buy_quantity\", buy_quantity)\n",
    "\n",
    "while buy_amount < mintrade_amnt :\n",
    "    buy_quantity = buy_quantity + 1\n",
    "    buy_amount = buy_price * buy_quantity\n",
    "    print(\" > buy_amount\", buy_amount, buy_amount, \"buy_quantity\", buy_quantity, \"buy_price\")\n",
    "\n",
    "if buy_amount > maxtrade_amnt :\n",
    "    raise Exception(\"buy amount exceeded max\")    \n",
    "\n",
    "res = add_order(teamPair, buy_price, buy_quantity, ORDER_SIDE_BUY, ORDER_TYPE_LIMIT)\n",
    "print(res)\n",
    "\n",
    "\n"
   ]
  },
  {
   "cell_type": "code",
   "execution_count": 734,
   "metadata": {},
   "outputs": [
    {
     "name": "stdout",
     "output_type": "stream",
     "text": [
      "sell_price 1.99 1.99\n",
      "sell_amount 1.9930477936592697 sell_quantity 1\n",
      "b\"v O\\xa0W\\xb84]'A1w\\x1b\\xa8\\xd4S\\xe6\\x81YI\\x0e`*\\xbbi\\x00L\\x1eTB\\x08S\"\n",
      "[]\n",
      "b\"v O\\xa0W\\xb84]'A1w\\x1b\\xa8\\xd4S\\xe6\\x81YI\\x0e`*\\xbbi\\x00L\\x1eTB\\x08S\"\n",
      "ask_price_raw 0\n",
      "res []\n"
     ]
    }
   ],
   "source": [
    "\n",
    "sell_price = base_price + target_spread_amount\n",
    "sell_quantity = DEFAULT_QUANTITY\n",
    "print(\"sell_price %.2f %.2f\" % (sell_price, parse_decimal_quote(format_decimal_quote(sell_price))))\n",
    "\n",
    "sell_amount = sell_price * sell_quantity\n",
    "\n",
    "print(\"sell_amount\", sell_amount, \"sell_quantity\", sell_quantity)\n",
    "\n",
    "while sell_amount < mintrade_amnt :\n",
    "    sell_quantity = sell_quantity + 1\n",
    "    sell_amount = sell_price * sell_quantity\n",
    "    print(\" > sell_amount\", sell_amount, sell_amount, \"sell_quantity\", sell_quantity, \"sell_price\")\n",
    "\n",
    "if sell_amount > maxtrade_amnt :\n",
    "    raise Exception(\"sell amount exceeded max\")    \n",
    "\n",
    "res = add_order(teamPair, sell_price, sell_quantity, ORDER_SIDE_SELL, ORDER_TYPE_LIMIT)\n",
    "print(res)\n",
    "\n",
    "res, ask_price_raw = getOrderBookSell(teamPair, ORDER_BOOK_DEPTH_TOP_OF_BOOK)\n",
    "print(\"ask_price_raw\", ask_price_raw)\n",
    "print(\"res\", res)\n",
    "\n"
   ]
  },
  {
   "cell_type": "code",
   "execution_count": 730,
   "metadata": {},
   "outputs": [
    {
     "name": "stdout",
     "output_type": "stream",
     "text": [
      "{'id': b'\\x00\\x00\\x00\\x00\\x00\\x00\\x00\\x00\\x00\\x00\\x00\\x00\\x00\\x00\\x00\\x00\\x00\\x00\\x00\\x00\\x00\\x00\\x00\\x00\\x00\\x00\\x00\\x00\\x00\\x00\\x00\\x00', 'price': 0, 'totalAmount': 0, 'quantity': 0, 'quantityFilled': 0, 'totalFee': 0, 'traderaddress': '0x0000000000000000000000000000000000000000', 'side': 0, 'type1': 0, 'status': 0}\n"
     ]
    }
   ],
   "source": [
    "\n",
    "def getOrder(order_id) :\n",
    "    contract = get_contract_trade_pairs()\n",
    "\n",
    "    tx = contract.functions.getOrder(order_id).call()\n",
    "  \n",
    "    resp = {      \n",
    "      \"id\": tx[0],\n",
    "      \"price\": tx[1],\n",
    "      \"totalAmount\": tx[2],\n",
    "      \"quantity\": tx[3],\n",
    "      \"quantityFilled\": tx[4],\n",
    "      \"totalFee\": tx[5],\n",
    "      \"traderaddress\": tx[6],\n",
    "      \"side\": tx[7],\n",
    "      \"type1\": tx[8],\n",
    "      \"status\": tx[9],       \n",
    "    }\n",
    "    return resp \n",
    "  \n",
    "   \n",
    "\n",
    "    \n",
    "\n",
    "    \n",
    "\n",
    "print(getOrder(res))   \n"
   ]
  },
  {
   "cell_type": "code",
   "execution_count": null,
   "metadata": {},
   "outputs": [],
   "source": []
  }
 ],
 "metadata": {
  "interpreter": {
   "hash": "aee8b7b246df8f9039afb4144a1f6fd8d2ca17a180786b69acc140d282b71a49"
  },
  "kernelspec": {
   "display_name": "Python 3.9.10 64-bit",
   "language": "python",
   "name": "python3"
  },
  "language_info": {
   "codemirror_mode": {
    "name": "ipython",
    "version": 3
   },
   "file_extension": ".py",
   "mimetype": "text/x-python",
   "name": "python",
   "nbconvert_exporter": "python",
   "pygments_lexer": "ipython3",
   "version": "3.9.10"
  },
  "orig_nbformat": 4
 },
 "nbformat": 4,
 "nbformat_minor": 2
}
